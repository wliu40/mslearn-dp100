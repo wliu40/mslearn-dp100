{
 "cells": [
  {
   "cell_type": "markdown",
   "metadata": {},
   "source": [
    "# Use Automated Machine Learning\n",
    "\n",
    "There are many kinds of machine learning algorithm that you can use to train a model, and sometimes it's not easy to determine the most effective algorithm for your particular data and prediction requirements. Additionally, you can significantly affect the predictive performance of a model by preprocessing the training data, using techniques such as normalization, missing feature imputation, and others. In your quest to find the *best* model for your requirements, you may need to try many combinations of algorithms and preprocessing transformations; which takes a lot of time and compute resources.\n",
    "\n",
    "Azure Machine Learning enables you to automate the comparison of models trained using different algorithms and preprocessing options. You can use the visual interface in [Azure Machine Learning studio](https://ml/azure.com) or the SDK to leverage this capability. The SDK gives you greater control over the settings for the automated machine learning experiment, but the visual interface is easier to use.\n",
    "\n",
    "## Before you start\n",
    "\n",
    "In addition to the latest version of the **azureml-sdk** and **azureml-widgets** packages, you'll need the **azureml-train-automl** package to run the code in this notebook. Run the cell below to verify that it is installed."
   ]
  },
  {
   "cell_type": "code",
   "execution_count": 1,
   "metadata": {
    "gather": {
     "logged": 1649367946616
    },
    "vscode": {
     "languageId": "python"
    }
   },
   "outputs": [
    {
     "name": "stdout",
     "output_type": "stream",
     "text": [
      "Note: you may need to restart the kernel to use updated packages.\n"
     ]
    },
    {
     "name": "stderr",
     "output_type": "stream",
     "text": [
      "WARNING: Package(s) not found: azureml-train-automl\n"
     ]
    }
   ],
   "source": [
    "pip show azureml-train-automl"
   ]
  },
  {
   "cell_type": "code",
   "execution_count": 2,
   "metadata": {},
   "outputs": [
    {
     "name": "stdout",
     "output_type": "stream",
     "text": [
      "Collecting azureml-train-automl\n",
      "  Downloading azureml_train_automl-1.48.0-py3-none-any.whl (2.2 kB)\n",
      "Collecting azureml-train-automl-runtime~=1.48.0\n",
      "  Downloading azureml_train_automl_runtime-1.48.0.post1-py3-none-any.whl (332 kB)\n",
      "     ------------------------------------ 332.4/332.4 kB 404.2 kB/s eta 0:00:00\n",
      "Requirement already satisfied: azureml-dataset-runtime[fuse,pandas]~=1.48.0 in c:\\users\\wei\\anaconda3\\envs\\az\\lib\\site-packages (from azureml-train-automl) (1.48.0)\n",
      "Requirement already satisfied: azureml-train-automl-client~=1.48.0 in c:\\users\\wei\\anaconda3\\envs\\az\\lib\\site-packages (from azureml-train-automl) (1.48.0)\n",
      "Collecting azureml-automl-runtime~=1.48.0\n",
      "  Downloading azureml_automl_runtime-1.48.0.post1-py3-none-any.whl (1.9 MB)\n",
      "     ---------------------------------------- 1.9/1.9 MB 441.1 kB/s eta 0:00:00\n",
      "Requirement already satisfied: azureml-automl-core~=1.48.0 in c:\\users\\wei\\anaconda3\\envs\\az\\lib\\site-packages (from azureml-train-automl) (1.48.0)\n",
      "Requirement already satisfied: azureml-telemetry~=1.48.0 in c:\\users\\wei\\anaconda3\\envs\\az\\lib\\site-packages (from azureml-automl-core~=1.48.0->azureml-train-automl) (1.48.0)\n",
      "Collecting dill<0.4.0,>=0.2.8\n",
      "  Downloading dill-0.3.6-py3-none-any.whl (110 kB)\n",
      "     -------------------------------------- 110.5/110.5 kB 2.1 MB/s eta 0:00:00\n",
      "Collecting azureml-training-tabular~=1.48.0\n",
      "  Downloading azureml_training_tabular-1.48.0-py3-none-any.whl (1.7 MB)\n",
      "     ---------------------------------------- 1.7/1.7 MB 475.2 kB/s eta 0:00:00\n",
      "Collecting gensim<3.9.0\n",
      "  Downloading gensim-3.8.3-cp38-cp38-win_amd64.whl (24.2 MB)\n",
      "     -------------------------------------- 24.2/24.2 MB 373.7 kB/s eta 0:00:00\n",
      "Requirement already satisfied: dotnetcore2<4.0.0,>=3.0.0 in c:\\users\\wei\\anaconda3\\envs\\az\\lib\\site-packages (from azureml-automl-runtime~=1.48.0->azureml-train-automl) (3.1.23)\n",
      "Requirement already satisfied: numpy<=1.22.3,>=1.16.0 in c:\\users\\wei\\anaconda3\\envs\\az\\lib\\site-packages (from azureml-automl-runtime~=1.48.0->azureml-train-automl) (1.22.3)\n",
      "Collecting joblib==0.14.1\n",
      "  Downloading joblib-0.14.1-py2.py3-none-any.whl (294 kB)\n",
      "     -------------------------------------- 294.9/294.9 kB 4.5 MB/s eta 0:00:00\n",
      "Requirement already satisfied: psutil<6.0.0,>=5.2.2 in c:\\users\\wei\\anaconda3\\envs\\az\\lib\\site-packages (from azureml-automl-runtime~=1.48.0->azureml-train-automl) (5.8.0)\n",
      "Collecting statsmodels<0.12,>=0.11.0\n",
      "  Downloading statsmodels-0.11.1-cp38-none-win_amd64.whl (8.3 MB)\n",
      "     ---------------------------------------- 8.3/8.3 MB 441.7 kB/s eta 0:00:00\n",
      "Collecting pmdarima==1.7.1\n",
      "  Downloading pmdarima-1.7.1-cp38-cp38-win_amd64.whl (614 kB)\n",
      "     ------------------------------------ 614.1/614.1 kB 585.7 kB/s eta 0:00:00\n",
      "Collecting dataclasses<=0.8,>=0.6\n",
      "  Downloading dataclasses-0.6-py3-none-any.whl (14 kB)\n",
      "Collecting pandas==1.1.5\n",
      "  Downloading pandas-1.1.5-cp38-cp38-win_amd64.whl (9.0 MB)\n",
      "     ---------------------------------------- 9.0/9.0 MB 440.1 kB/s eta 0:00:00\n",
      "Collecting onnxruntime<=1.11.1,>=1.3.0\n",
      "  Downloading onnxruntime-1.11.1-cp38-cp38-win_amd64.whl (5.6 MB)\n",
      "     ---------------------------------------- 5.6/5.6 MB 443.4 kB/s eta 0:00:00\n",
      "Collecting onnx<=1.12.0,>=1.6.0\n",
      "  Downloading onnx-1.12.0-cp38-cp38-win_amd64.whl (11.5 MB)\n",
      "     -------------------------------------- 11.5/11.5 MB 432.9 kB/s eta 0:00:00\n",
      "Collecting onnxconverter-common<=1.6.0,>=1.4.2\n",
      "  Downloading onnxconverter_common-1.6.0-py2.py3-none-any.whl (43 kB)\n",
      "     -------------------------------------- 43.2/43.2 kB 701.9 kB/s eta 0:00:00\n",
      "Collecting scipy<=1.5.3,>=1.0.0\n",
      "  Downloading scipy-1.5.3-cp38-cp38-win_amd64.whl (31.4 MB)\n",
      "     -------------------------------------- 31.4/31.4 MB 423.7 kB/s eta 0:00:00\n",
      "Collecting skl2onnx==1.4.9\n",
      "  Downloading skl2onnx-1.4.9-py2.py3-none-any.whl (114 kB)\n",
      "     -------------------------------------- 114.6/114.6 kB 3.3 MB/s eta 0:00:00\n",
      "Collecting smart-open<=1.9.0\n",
      "  Downloading smart_open-1.9.0.tar.gz (70 kB)\n",
      "     ---------------------------------------- 70.6/70.6 kB 1.9 MB/s eta 0:00:00\n",
      "  Preparing metadata (setup.py): started\n",
      "  Preparing metadata (setup.py): finished with status 'done'\n",
      "Collecting boto3<=1.20.19\n",
      "  Downloading boto3-1.20.19-py3-none-any.whl (131 kB)\n",
      "     -------------------------------------- 131.8/131.8 kB 3.9 MB/s eta 0:00:00\n",
      "Collecting scikit-learn<0.23.0,>=0.19.0\n",
      "  Downloading scikit_learn-0.22.2.post1-cp38-cp38-win_amd64.whl (6.6 MB)\n",
      "     ---------------------------------------- 6.6/6.6 MB 438.1 kB/s eta 0:00:00\n",
      "Collecting protobuf<=3.20.1\n",
      "  Downloading protobuf-3.20.1-cp38-cp38-win_amd64.whl (904 kB)\n",
      "     ------------------------------------ 904.4/904.4 kB 515.7 kB/s eta 0:00:00\n",
      "Collecting onnxmltools==1.4.1\n",
      "  Downloading onnxmltools-1.4.1-py2.py3-none-any.whl (371 kB)\n",
      "     ------------------------------------ 371.5/371.5 kB 797.4 kB/s eta 0:00:00\n",
      "Collecting sklearn-pandas<=1.7.0,>=1.4.0\n",
      "  Downloading sklearn_pandas-1.7.0-py2.py3-none-any.whl (10 kB)\n",
      "Collecting botocore<=1.23.19\n",
      "  Downloading botocore-1.23.19-py3-none-any.whl (8.4 MB)\n",
      "     ---------------------------------------- 8.4/8.4 MB 438.2 kB/s eta 0:00:00\n",
      "Collecting nimbusml<=1.8.0,>=1.7.1\n",
      "  Downloading nimbusml-1.8.0-cp38-none-win_amd64.whl (59.1 MB)\n",
      "     -------------------------------------- 59.1/59.1 MB 425.9 kB/s eta 0:00:00\n",
      "Collecting keras2onnx<=1.6.0,>=1.4.0\n",
      "  Downloading keras2onnx-1.6.0-py3-none-any.whl (219 kB)\n",
      "     -------------------------------------- 219.8/219.8 kB 3.3 MB/s eta 0:00:00\n",
      "Collecting lightgbm<=3.2.1,>=2.0.11\n",
      "  Downloading lightgbm-3.2.1-py3-none-win_amd64.whl (1.0 MB)\n",
      "     ---------------------------------------- 1.0/1.0 MB 567.8 kB/s eta 0:00:00\n",
      "Requirement already satisfied: six in c:\\users\\wei\\anaconda3\\envs\\az\\lib\\site-packages (from onnxmltools==1.4.1->azureml-automl-runtime~=1.48.0->azureml-train-automl) (1.16.0)\n",
      "Requirement already satisfied: python-dateutil>=2.7.3 in c:\\users\\wei\\anaconda3\\envs\\az\\lib\\site-packages (from pandas==1.1.5->azureml-automl-runtime~=1.48.0->azureml-train-automl) (2.8.2)\n",
      "Requirement already satisfied: pytz>=2017.2 in c:\\users\\wei\\anaconda3\\envs\\az\\lib\\site-packages (from pandas==1.1.5->azureml-automl-runtime~=1.48.0->azureml-train-automl) (2022.7)\n",
      "Collecting Cython<0.29.18,>=0.29\n",
      "  Downloading Cython-0.29.17-cp38-cp38-win_amd64.whl (1.7 MB)\n",
      "     ---------------------------------------- 1.7/1.7 MB 475.2 kB/s eta 0:00:00\n",
      "Requirement already satisfied: urllib3 in c:\\users\\wei\\anaconda3\\envs\\az\\lib\\site-packages (from pmdarima==1.7.1->azureml-automl-runtime~=1.48.0->azureml-train-automl) (1.26.13)\n",
      "Collecting setuptools<50.0.0\n",
      "  Downloading setuptools-49.6.0-py3-none-any.whl (803 kB)\n",
      "     ------------------------------------ 803.3/803.3 kB 545.8 kB/s eta 0:00:00\n",
      "Requirement already satisfied: pyarrow<=9.0.0,>=0.17.0 in c:\\users\\wei\\anaconda3\\envs\\az\\lib\\site-packages (from azureml-dataset-runtime[fuse,pandas]~=1.48.0->azureml-train-automl) (9.0.0)\n",
      "Requirement already satisfied: azureml-dataprep<4.9.0a,>=4.8.0a in c:\\users\\wei\\anaconda3\\envs\\az\\lib\\site-packages (from azureml-dataset-runtime[fuse,pandas]~=1.48.0->azureml-train-automl) (4.8.3)\n",
      "Requirement already satisfied: fusepy<4.0.0,>=3.0.1 in c:\\users\\wei\\anaconda3\\envs\\az\\lib\\site-packages (from azureml-dataset-runtime[fuse,pandas]~=1.48.0->azureml-train-automl) (3.0.1)\n",
      "Requirement already satisfied: azureml-core~=1.48.0 in c:\\users\\wei\\anaconda3\\envs\\az\\lib\\site-packages (from azureml-train-automl-client~=1.48.0->azureml-train-automl) (1.48.0)\n",
      "Requirement already satisfied: azureml-train-core~=1.48.0 in c:\\users\\wei\\anaconda3\\envs\\az\\lib\\site-packages (from azureml-train-automl-client~=1.48.0->azureml-train-automl) (1.48.0)\n",
      "Requirement already satisfied: azureml-mlflow~=1.48.0 in c:\\users\\wei\\anaconda3\\envs\\az\\lib\\site-packages (from azureml-train-automl-runtime~=1.48.0->azureml-train-automl) (1.48.0)\n",
      "Collecting dask[complete]<=2021.6.0\n",
      "  Downloading dask-2021.6.0-py3-none-any.whl (965 kB)\n",
      "     ------------------------------------ 965.6/965.6 kB 531.7 kB/s eta 0:00:00\n",
      "Collecting azure-storage-queue~=12.1\n",
      "  Downloading azure_storage_queue-12.5.0-py3-none-any.whl (167 kB)\n",
      "     -------------------------------------- 167.3/167.3 kB 9.8 MB/s eta 0:00:00\n",
      "Collecting bokeh<3.0.0\n",
      "  Downloading bokeh-2.4.3-py3-none-any.whl (18.5 MB)\n",
      "     -------------------------------------- 18.5/18.5 MB 427.1 kB/s eta 0:00:00\n",
      "Requirement already satisfied: azureml-interpret~=1.48.0 in c:\\users\\wei\\anaconda3\\envs\\az\\lib\\site-packages (from azureml-train-automl-runtime~=1.48.0->azureml-train-automl) (1.48.0)\n",
      "Collecting mlflow-skinny<=1.30.0\n",
      "  Downloading mlflow_skinny-1.30.0-py3-none-any.whl (3.7 MB)\n",
      "     ---------------------------------------- 3.7/3.7 MB 445.0 kB/s eta 0:00:00\n",
      "Requirement already satisfied: jinja2<4 in c:\\users\\wei\\anaconda3\\envs\\az\\lib\\site-packages (from azureml-train-automl-runtime~=1.48.0->azureml-train-automl) (3.1.2)\n",
      "Requirement already satisfied: msrest>=0.7.1 in c:\\users\\wei\\anaconda3\\envs\\az\\lib\\site-packages (from azure-storage-queue~=12.1->azureml-train-automl-runtime~=1.48.0->azureml-train-automl) (0.7.1)\n",
      "Requirement already satisfied: cryptography>=2.1.4 in c:\\users\\wei\\anaconda3\\envs\\az\\lib\\site-packages (from azure-storage-queue~=12.1->azureml-train-automl-runtime~=1.48.0->azureml-train-automl) (38.0.4)\n",
      "Requirement already satisfied: azure-core<2.0.0,>=1.24.2 in c:\\users\\wei\\anaconda3\\envs\\az\\lib\\site-packages (from azure-storage-queue~=12.1->azureml-train-automl-runtime~=1.48.0->azureml-train-automl) (1.26.1)\n",
      "Requirement already satisfied: backports.tempfile in c:\\users\\wei\\anaconda3\\envs\\az\\lib\\site-packages (from azureml-core~=1.48.0->azureml-train-automl-client~=1.48.0->azureml-train-automl) (1.0)\n",
      "Requirement already satisfied: argcomplete<3 in c:\\users\\wei\\anaconda3\\envs\\az\\lib\\site-packages (from azureml-core~=1.48.0->azureml-train-automl-client~=1.48.0->azureml-train-automl) (2.0.0)\n",
      "Requirement already satisfied: humanfriendly<11.0,>=4.7 in c:\\users\\wei\\anaconda3\\envs\\az\\lib\\site-packages (from azureml-core~=1.48.0->azureml-train-automl-client~=1.48.0->azureml-train-automl) (10.0)\n",
      "Requirement already satisfied: azure-graphrbac<1.0.0,>=0.40.0 in c:\\users\\wei\\anaconda3\\envs\\az\\lib\\site-packages (from azureml-core~=1.48.0->azureml-train-automl-client~=1.48.0->azureml-train-automl) (0.61.1)\n",
      "Requirement already satisfied: azure-mgmt-resource<22.0.0,>=15.0.0 in c:\\users\\wei\\anaconda3\\envs\\az\\lib\\site-packages (from azureml-core~=1.48.0->azureml-train-automl-client~=1.48.0->azureml-train-automl) (21.2.1)\n",
      "Requirement already satisfied: paramiko<3.0.0,>=2.0.8 in c:\\users\\wei\\anaconda3\\envs\\az\\lib\\site-packages (from azureml-core~=1.48.0->azureml-train-automl-client~=1.48.0->azureml-train-automl) (2.12.0)\n",
      "Requirement already satisfied: ndg-httpsclient<=0.5.1 in c:\\users\\wei\\anaconda3\\envs\\az\\lib\\site-packages (from azureml-core~=1.48.0->azureml-train-automl-client~=1.48.0->azureml-train-automl) (0.5.1)\n",
      "Requirement already satisfied: jsonpickle<3.0.0 in c:\\users\\wei\\anaconda3\\envs\\az\\lib\\site-packages (from azureml-core~=1.48.0->azureml-train-automl-client~=1.48.0->azureml-train-automl) (2.2.0)\n",
      "Requirement already satisfied: contextlib2<22.0.0 in c:\\users\\wei\\anaconda3\\envs\\az\\lib\\site-packages (from azureml-core~=1.48.0->azureml-train-automl-client~=1.48.0->azureml-train-automl) (21.6.0)\n",
      "Requirement already satisfied: adal<=1.2.7,>=1.2.0 in c:\\users\\wei\\anaconda3\\envs\\az\\lib\\site-packages (from azureml-core~=1.48.0->azureml-train-automl-client~=1.48.0->azureml-train-automl) (1.2.7)\n",
      "Requirement already satisfied: msal<2.0.0,>=1.15.0 in c:\\users\\wei\\anaconda3\\envs\\az\\lib\\site-packages (from azureml-core~=1.48.0->azureml-train-automl-client~=1.48.0->azureml-train-automl) (1.20.0)\n",
      "Requirement already satisfied: docker<7.0.0 in c:\\users\\wei\\anaconda3\\envs\\az\\lib\\site-packages (from azureml-core~=1.48.0->azureml-train-automl-client~=1.48.0->azureml-train-automl) (6.0.1)\n",
      "Requirement already satisfied: packaging<22.0,>=20.0 in c:\\users\\wei\\anaconda3\\envs\\az\\lib\\site-packages (from azureml-core~=1.48.0->azureml-train-automl-client~=1.48.0->azureml-train-automl) (21.3)\n",
      "Requirement already satisfied: SecretStorage<4.0.0 in c:\\users\\wei\\anaconda3\\envs\\az\\lib\\site-packages (from azureml-core~=1.48.0->azureml-train-automl-client~=1.48.0->azureml-train-automl) (3.3.3)\n",
      "Requirement already satisfied: azure-common<2.0.0,>=1.1.12 in c:\\users\\wei\\anaconda3\\envs\\az\\lib\\site-packages (from azureml-core~=1.48.0->azureml-train-automl-client~=1.48.0->azureml-train-automl) (1.1.28)\n",
      "Requirement already satisfied: pkginfo in c:\\users\\wei\\anaconda3\\envs\\az\\lib\\site-packages (from azureml-core~=1.48.0->azureml-train-automl-client~=1.48.0->azureml-train-automl) (1.9.2)\n",
      "Requirement already satisfied: pathspec<1.0.0 in c:\\users\\wei\\anaconda3\\envs\\az\\lib\\site-packages (from azureml-core~=1.48.0->azureml-train-automl-client~=1.48.0->azureml-train-automl) (0.10.3)\n",
      "Requirement already satisfied: azure-mgmt-authorization<4,>=0.40.0 in c:\\users\\wei\\anaconda3\\envs\\az\\lib\\site-packages (from azureml-core~=1.48.0->azureml-train-automl-client~=1.48.0->azureml-train-automl) (3.0.0)\n",
      "Requirement already satisfied: jmespath<2.0.0 in c:\\users\\wei\\anaconda3\\envs\\az\\lib\\site-packages (from azureml-core~=1.48.0->azureml-train-automl-client~=1.48.0->azureml-train-automl) (1.0.1)\n",
      "Requirement already satisfied: azure-mgmt-containerregistry<11,>=8.2.0 in c:\\users\\wei\\anaconda3\\envs\\az\\lib\\site-packages (from azureml-core~=1.48.0->azureml-train-automl-client~=1.48.0->azureml-train-automl) (10.0.0)\n",
      "Requirement already satisfied: azure-mgmt-storage<21.0.0,>=16.0.0 in c:\\users\\wei\\anaconda3\\envs\\az\\lib\\site-packages (from azureml-core~=1.48.0->azureml-train-automl-client~=1.48.0->azureml-train-automl) (20.1.0)\n",
      "Requirement already satisfied: pyopenssl<23.0.0 in c:\\users\\wei\\anaconda3\\envs\\az\\lib\\site-packages (from azureml-core~=1.48.0->azureml-train-automl-client~=1.48.0->azureml-train-automl) (22.1.0)\n",
      "Requirement already satisfied: msal-extensions<=1.0.0,>=0.3.0 in c:\\users\\wei\\anaconda3\\envs\\az\\lib\\site-packages (from azureml-core~=1.48.0->azureml-train-automl-client~=1.48.0->azureml-train-automl) (0.3.1)\n",
      "Requirement already satisfied: azure-mgmt-keyvault<11.0.0,>=0.40.0 in c:\\users\\wei\\anaconda3\\envs\\az\\lib\\site-packages (from azureml-core~=1.48.0->azureml-train-automl-client~=1.48.0->azureml-train-automl) (10.1.0)\n",
      "Requirement already satisfied: PyJWT<3.0.0 in c:\\users\\wei\\anaconda3\\envs\\az\\lib\\site-packages (from azureml-core~=1.48.0->azureml-train-automl-client~=1.48.0->azureml-train-automl) (2.6.0)\n",
      "Requirement already satisfied: requests[socks]<3.0.0,>=2.19.1 in c:\\users\\wei\\anaconda3\\envs\\az\\lib\\site-packages (from azureml-core~=1.48.0->azureml-train-automl-client~=1.48.0->azureml-train-automl) (2.28.1)\n",
      "Requirement already satisfied: msrestazure<=0.6.4,>=0.4.33 in c:\\users\\wei\\anaconda3\\envs\\az\\lib\\site-packages (from azureml-core~=1.48.0->azureml-train-automl-client~=1.48.0->azureml-train-automl) (0.6.4)\n",
      "Requirement already satisfied: knack~=0.10.0 in c:\\users\\wei\\anaconda3\\envs\\az\\lib\\site-packages (from azureml-core~=1.48.0->azureml-train-automl-client~=1.48.0->azureml-train-automl) (0.10.1)\n",
      "Requirement already satisfied: azure-identity==1.7.0 in c:\\users\\wei\\anaconda3\\envs\\az\\lib\\site-packages (from azureml-dataprep<4.9.0a,>=4.8.0a->azureml-dataset-runtime[fuse,pandas]~=1.48.0->azureml-train-automl) (1.7.0)\n",
      "Requirement already satisfied: jsonschema in c:\\users\\wei\\anaconda3\\envs\\az\\lib\\site-packages (from azureml-dataprep<4.9.0a,>=4.8.0a->azureml-dataset-runtime[fuse,pandas]~=1.48.0->azureml-train-automl) (4.17.3)\n",
      "Requirement already satisfied: cloudpickle<3.0.0,>=1.1.0 in c:\\users\\wei\\anaconda3\\envs\\az\\lib\\site-packages (from azureml-dataprep<4.9.0a,>=4.8.0a->azureml-dataset-runtime[fuse,pandas]~=1.48.0->azureml-train-automl) (2.2.0)\n",
      "Requirement already satisfied: azureml-dataprep-native<39.0.0,>=38.0.0 in c:\\users\\wei\\anaconda3\\envs\\az\\lib\\site-packages (from azureml-dataprep<4.9.0a,>=4.8.0a->azureml-dataset-runtime[fuse,pandas]~=1.48.0->azureml-train-automl) (38.0.0)\n",
      "Requirement already satisfied: azureml-dataprep-rslex~=2.15.0dev0 in c:\\users\\wei\\anaconda3\\envs\\az\\lib\\site-packages (from azureml-dataprep<4.9.0a,>=4.8.0a->azureml-dataset-runtime[fuse,pandas]~=1.48.0->azureml-train-automl) (2.15.1)\n",
      "Requirement already satisfied: pyyaml<7.0.0,>=5.1.0 in c:\\users\\wei\\anaconda3\\envs\\az\\lib\\site-packages (from azureml-dataprep<4.9.0a,>=4.8.0a->azureml-dataset-runtime[fuse,pandas]~=1.48.0->azureml-train-automl) (6.0)\n",
      "Requirement already satisfied: numba<=0.55.2 in c:\\users\\wei\\anaconda3\\envs\\az\\lib\\site-packages (from azureml-interpret~=1.48.0->azureml-train-automl-runtime~=1.48.0->azureml-train-automl) (0.55.2)\n",
      "Requirement already satisfied: shap<0.40.0 in c:\\users\\wei\\anaconda3\\envs\\az\\lib\\site-packages (from azureml-interpret~=1.48.0->azureml-train-automl-runtime~=1.48.0->azureml-train-automl) (0.39.0)\n",
      "Requirement already satisfied: interpret-community==0.27.* in c:\\users\\wei\\anaconda3\\envs\\az\\lib\\site-packages (from azureml-interpret~=1.48.0->azureml-train-automl-runtime~=1.48.0->azureml-train-automl) (0.27.0)\n",
      "Requirement already satisfied: ml-wrappers==0.2.2 in c:\\users\\wei\\anaconda3\\envs\\az\\lib\\site-packages (from interpret-community==0.27.*->azureml-interpret~=1.48.0->azureml-train-automl-runtime~=1.48.0->azureml-train-automl) (0.2.2)\n",
      "Requirement already satisfied: interpret-core[required]<=0.2.7,>=0.1.20 in c:\\users\\wei\\anaconda3\\envs\\az\\lib\\site-packages (from interpret-community==0.27.*->azureml-interpret~=1.48.0->azureml-train-automl-runtime~=1.48.0->azureml-train-automl) (0.2.7)\n",
      "Requirement already satisfied: azure-mgmt-core<2.0.0,>=1.2.0 in c:\\users\\wei\\anaconda3\\envs\\az\\lib\\site-packages (from azureml-mlflow~=1.48.0->azureml-train-automl-runtime~=1.48.0->azureml-train-automl) (1.3.2)\n",
      "Requirement already satisfied: azure-storage-blob<=12.13.0,>=12.5.0 in c:\\users\\wei\\anaconda3\\envs\\az\\lib\\site-packages (from azureml-mlflow~=1.48.0->azureml-train-automl-runtime~=1.48.0->azureml-train-automl) (12.13.0)\n",
      "Requirement already satisfied: applicationinsights in c:\\users\\wei\\anaconda3\\envs\\az\\lib\\site-packages (from azureml-telemetry~=1.48.0->azureml-automl-core~=1.48.0->azureml-train-automl) (0.11.10)\n",
      "Requirement already satisfied: azureml-train-restclients-hyperdrive~=1.48.0 in c:\\users\\wei\\anaconda3\\envs\\az\\lib\\site-packages (from azureml-train-core~=1.48.0->azureml-train-automl-client~=1.48.0->azureml-train-automl) (1.48.0)\n",
      "Requirement already satisfied: tornado>=5.1 in c:\\users\\wei\\anaconda3\\envs\\az\\lib\\site-packages (from bokeh<3.0.0->azureml-train-automl-runtime~=1.48.0->azureml-train-automl) (6.2)\n",
      "Requirement already satisfied: typing-extensions>=3.10.0 in c:\\users\\wei\\anaconda3\\envs\\az\\lib\\site-packages (from bokeh<3.0.0->azureml-train-automl-runtime~=1.48.0->azureml-train-automl) (4.4.0)\n",
      "Requirement already satisfied: pillow>=7.1.0 in c:\\users\\wei\\anaconda3\\envs\\az\\lib\\site-packages (from bokeh<3.0.0->azureml-train-automl-runtime~=1.48.0->azureml-train-automl) (9.3.0)\n",
      "Collecting jmespath<2.0.0\n",
      "  Downloading jmespath-0.10.0-py2.py3-none-any.whl (24 kB)\n",
      "Collecting s3transfer<0.6.0,>=0.5.0\n",
      "  Downloading s3transfer-0.5.2-py3-none-any.whl (79 kB)\n",
      "     ---------------------------------------- 79.5/79.5 kB 2.2 MB/s eta 0:00:00\n",
      "Collecting partd>=0.3.10\n",
      "  Downloading partd-1.3.0-py3-none-any.whl (18 kB)\n",
      "Collecting fsspec>=0.6.0\n",
      "  Downloading fsspec-2022.11.0-py3-none-any.whl (139 kB)\n",
      "     ------------------------------------ 139.5/139.5 kB 923.0 kB/s eta 0:00:00\n",
      "Collecting toolz>=0.8.2\n",
      "  Downloading toolz-0.12.0-py3-none-any.whl (55 kB)\n",
      "     ---------------------------------------- 55.8/55.8 kB 1.4 MB/s eta 0:00:00\n",
      "Collecting distributed==2021.06.0\n",
      "  Downloading distributed-2021.6.0-py3-none-any.whl (715 kB)\n",
      "     ------------------------------------ 715.3/715.3 kB 544.1 kB/s eta 0:00:00\n",
      "Collecting sortedcontainers!=2.0.0,!=2.0.1\n",
      "  Downloading sortedcontainers-2.4.0-py2.py3-none-any.whl (29 kB)\n",
      "Collecting zict>=0.1.3\n",
      "  Downloading zict-2.2.0-py2.py3-none-any.whl (23 kB)\n",
      "Collecting msgpack>=0.6.0\n",
      "  Downloading msgpack-1.0.4-cp38-cp38-win_amd64.whl (62 kB)\n",
      "     ---------------------------------------- 62.2/62.2 kB 1.7 MB/s eta 0:00:00\n",
      "Requirement already satisfied: click>=6.6 in c:\\users\\wei\\anaconda3\\envs\\az\\lib\\site-packages (from distributed==2021.06.0->dask[complete]<=2021.6.0->azureml-train-automl-runtime~=1.48.0->azureml-train-automl) (8.1.3)\n",
      "Collecting tblib>=1.6.0\n",
      "  Downloading tblib-1.7.0-py2.py3-none-any.whl (12 kB)\n",
      "Requirement already satisfied: distro>=1.2.0 in c:\\users\\wei\\anaconda3\\envs\\az\\lib\\site-packages (from dotnetcore2<4.0.0,>=3.0.0->azureml-automl-runtime~=1.48.0->azureml-train-automl) (1.8.0)\n",
      "Collecting Cython<0.29.18,>=0.29\n",
      "  Downloading Cython-0.29.14-cp38-cp38-win_amd64.whl (1.7 MB)\n",
      "     ---------------------------------------- 1.7/1.7 MB 474.6 kB/s eta 0:00:00\n",
      "Requirement already satisfied: MarkupSafe>=2.0 in c:\\users\\wei\\anaconda3\\envs\\az\\lib\\site-packages (from jinja2<4->azureml-train-automl-runtime~=1.48.0->azureml-train-automl) (2.1.1)\n",
      "Collecting fire\n",
      "  Downloading fire-0.5.0.tar.gz (88 kB)\n",
      "     ---------------------------------------- 88.3/88.3 kB 2.5 MB/s eta 0:00:00\n",
      "  Preparing metadata (setup.py): started\n",
      "  Preparing metadata (setup.py): finished with status 'done'\n",
      "Requirement already satisfied: wheel in c:\\users\\wei\\anaconda3\\envs\\az\\lib\\site-packages (from lightgbm<=3.2.1,>=2.0.11->azureml-automl-runtime~=1.48.0->azureml-train-automl) (0.37.1)\n",
      "Requirement already satisfied: sqlparse<1,>=0.4.0 in c:\\users\\wei\\anaconda3\\envs\\az\\lib\\site-packages (from mlflow-skinny<=1.30.0->azureml-train-automl-runtime~=1.48.0->azureml-train-automl) (0.4.3)\n",
      "Requirement already satisfied: gitpython<4,>=2.1.0 in c:\\users\\wei\\anaconda3\\envs\\az\\lib\\site-packages (from mlflow-skinny<=1.30.0->azureml-train-automl-runtime~=1.48.0->azureml-train-automl) (3.1.29)\n",
      "Requirement already satisfied: entrypoints<1 in c:\\users\\wei\\anaconda3\\envs\\az\\lib\\site-packages (from mlflow-skinny<=1.30.0->azureml-train-automl-runtime~=1.48.0->azureml-train-automl) (0.4)\n",
      "Requirement already satisfied: databricks-cli<1,>=0.8.7 in c:\\users\\wei\\anaconda3\\envs\\az\\lib\\site-packages (from mlflow-skinny<=1.30.0->azureml-train-automl-runtime~=1.48.0->azureml-train-automl) (0.17.4)\n",
      "Requirement already satisfied: importlib-metadata!=4.7.0,<6,>=3.7.0 in c:\\users\\wei\\anaconda3\\envs\\az\\lib\\site-packages (from mlflow-skinny<=1.30.0->azureml-train-automl-runtime~=1.48.0->azureml-train-automl) (5.2.0)\n",
      "Collecting flatbuffers\n",
      "  Downloading flatbuffers-23.1.4-py2.py3-none-any.whl (26 kB)\n",
      "Collecting boto>=2.32\n",
      "  Downloading boto-2.49.0-py2.py3-none-any.whl (1.4 MB)\n",
      "     ---------------------------------------- 1.4/1.4 MB 485.1 kB/s eta 0:00:00\n",
      "Requirement already satisfied: patsy>=0.5 in c:\\users\\wei\\anaconda3\\envs\\az\\lib\\site-packages (from statsmodels<0.12,>=0.11.0->azureml-automl-runtime~=1.48.0->azureml-train-automl) (0.5.3)\n",
      "Requirement already satisfied: colorama in c:\\users\\wei\\anaconda3\\envs\\az\\lib\\site-packages (from click>=6.6->distributed==2021.06.0->dask[complete]<=2021.6.0->azureml-train-automl-runtime~=1.48.0->azureml-train-automl) (0.4.6)\n",
      "Requirement already satisfied: cffi>=1.12 in c:\\users\\wei\\anaconda3\\envs\\az\\lib\\site-packages (from cryptography>=2.1.4->azure-storage-queue~=12.1->azureml-train-automl-runtime~=1.48.0->azureml-train-automl) (1.15.1)\n",
      "Requirement already satisfied: oauthlib>=3.1.0 in c:\\users\\wei\\anaconda3\\envs\\az\\lib\\site-packages (from databricks-cli<1,>=0.8.7->mlflow-skinny<=1.30.0->azureml-train-automl-runtime~=1.48.0->azureml-train-automl) (3.2.2)\n",
      "Requirement already satisfied: tabulate>=0.7.7 in c:\\users\\wei\\anaconda3\\envs\\az\\lib\\site-packages (from databricks-cli<1,>=0.8.7->mlflow-skinny<=1.30.0->azureml-train-automl-runtime~=1.48.0->azureml-train-automl) (0.9.0)\n",
      "Requirement already satisfied: pywin32>=304 in c:\\users\\wei\\anaconda3\\envs\\az\\lib\\site-packages (from docker<7.0.0->azureml-core~=1.48.0->azureml-train-automl-client~=1.48.0->azureml-train-automl) (305)\n",
      "Requirement already satisfied: websocket-client>=0.32.0 in c:\\users\\wei\\anaconda3\\envs\\az\\lib\\site-packages (from docker<7.0.0->azureml-core~=1.48.0->azureml-train-automl-client~=1.48.0->azureml-train-automl) (1.4.2)\n",
      "Requirement already satisfied: gitdb<5,>=4.0.1 in c:\\users\\wei\\anaconda3\\envs\\az\\lib\\site-packages (from gitpython<4,>=2.1.0->mlflow-skinny<=1.30.0->azureml-train-automl-runtime~=1.48.0->azureml-train-automl) (4.0.10)\n",
      "Requirement already satisfied: pyreadline3 in c:\\users\\wei\\anaconda3\\envs\\az\\lib\\site-packages (from humanfriendly<11.0,>=4.7->azureml-core~=1.48.0->azureml-train-automl-client~=1.48.0->azureml-train-automl) (3.4.1)\n",
      "Requirement already satisfied: zipp>=0.5 in c:\\users\\wei\\anaconda3\\envs\\az\\lib\\site-packages (from importlib-metadata!=4.7.0,<6,>=3.7.0->mlflow-skinny<=1.30.0->azureml-train-automl-runtime~=1.48.0->azureml-train-automl) (3.11.0)\n",
      "Requirement already satisfied: pygments in c:\\users\\wei\\anaconda3\\envs\\az\\lib\\site-packages (from knack~=0.10.0->azureml-core~=1.48.0->azureml-train-automl-client~=1.48.0->azureml-train-automl) (2.13.0)\n",
      "Requirement already satisfied: portalocker<3,>=1.6 in c:\\users\\wei\\anaconda3\\envs\\az\\lib\\site-packages (from msal-extensions<=1.0.0,>=0.3.0->azureml-core~=1.48.0->azureml-train-automl-client~=1.48.0->azureml-train-automl) (2.6.0)\n",
      "Requirement already satisfied: requests-oauthlib>=0.5.0 in c:\\users\\wei\\anaconda3\\envs\\az\\lib\\site-packages (from msrest>=0.7.1->azure-storage-queue~=12.1->azureml-train-automl-runtime~=1.48.0->azureml-train-automl) (1.3.1)\n",
      "Requirement already satisfied: isodate>=0.6.0 in c:\\users\\wei\\anaconda3\\envs\\az\\lib\\site-packages (from msrest>=0.7.1->azure-storage-queue~=12.1->azureml-train-automl-runtime~=1.48.0->azureml-train-automl) (0.6.1)\n",
      "Requirement already satisfied: certifi>=2017.4.17 in c:\\users\\wei\\anaconda3\\envs\\az\\lib\\site-packages (from msrest>=0.7.1->azure-storage-queue~=12.1->azureml-train-automl-runtime~=1.48.0->azureml-train-automl) (2022.12.7)\n",
      "Requirement already satisfied: pyasn1>=0.1.1 in c:\\users\\wei\\anaconda3\\envs\\az\\lib\\site-packages (from ndg-httpsclient<=0.5.1->azureml-core~=1.48.0->azureml-train-automl-client~=1.48.0->azureml-train-automl) (0.4.8)\n",
      "Requirement already satisfied: llvmlite<0.39,>=0.38.0rc1 in c:\\users\\wei\\anaconda3\\envs\\az\\lib\\site-packages (from numba<=0.55.2->azureml-interpret~=1.48.0->azureml-train-automl-runtime~=1.48.0->azureml-train-automl) (0.38.1)\n",
      "Requirement already satisfied: pyparsing!=3.0.5,>=2.0.2 in c:\\users\\wei\\anaconda3\\envs\\az\\lib\\site-packages (from packaging<22.0,>=20.0->azureml-core~=1.48.0->azureml-train-automl-client~=1.48.0->azureml-train-automl) (3.0.9)\n",
      "Requirement already satisfied: pynacl>=1.0.1 in c:\\users\\wei\\anaconda3\\envs\\az\\lib\\site-packages (from paramiko<3.0.0,>=2.0.8->azureml-core~=1.48.0->azureml-train-automl-client~=1.48.0->azureml-train-automl) (1.5.0)\n",
      "Requirement already satisfied: bcrypt>=3.1.3 in c:\\users\\wei\\anaconda3\\envs\\az\\lib\\site-packages (from paramiko<3.0.0,>=2.0.8->azureml-core~=1.48.0->azureml-train-automl-client~=1.48.0->azureml-train-automl) (4.0.1)\n",
      "Collecting locket\n",
      "  Downloading locket-1.0.0-py2.py3-none-any.whl (4.4 kB)\n",
      "Requirement already satisfied: charset-normalizer<3,>=2 in c:\\users\\wei\\anaconda3\\envs\\az\\lib\\site-packages (from requests[socks]<3.0.0,>=2.19.1->azureml-core~=1.48.0->azureml-train-automl-client~=1.48.0->azureml-train-automl) (2.1.1)\n",
      "Requirement already satisfied: idna<4,>=2.5 in c:\\users\\wei\\anaconda3\\envs\\az\\lib\\site-packages (from requests[socks]<3.0.0,>=2.19.1->azureml-core~=1.48.0->azureml-train-automl-client~=1.48.0->azureml-train-automl) (3.4)\n",
      "Requirement already satisfied: PySocks!=1.5.7,>=1.5.6 in c:\\users\\wei\\anaconda3\\envs\\az\\lib\\site-packages (from requests[socks]<3.0.0,>=2.19.1->azureml-core~=1.48.0->azureml-train-automl-client~=1.48.0->azureml-train-automl) (1.7.1)\n",
      "Requirement already satisfied: jeepney>=0.6 in c:\\users\\wei\\anaconda3\\envs\\az\\lib\\site-packages (from SecretStorage<4.0.0->azureml-core~=1.48.0->azureml-train-automl-client~=1.48.0->azureml-train-automl) (0.8.0)\n",
      "Requirement already satisfied: tqdm>4.25.0 in c:\\users\\wei\\anaconda3\\envs\\az\\lib\\site-packages (from shap<0.40.0->azureml-interpret~=1.48.0->azureml-train-automl-runtime~=1.48.0->azureml-train-automl) (4.64.1)\n",
      "Requirement already satisfied: slicer==0.0.7 in c:\\users\\wei\\anaconda3\\envs\\az\\lib\\site-packages (from shap<0.40.0->azureml-interpret~=1.48.0->azureml-train-automl-runtime~=1.48.0->azureml-train-automl) (0.0.7)\n",
      "Requirement already satisfied: backports.weakref in c:\\users\\wei\\anaconda3\\envs\\az\\lib\\site-packages (from backports.tempfile->azureml-core~=1.48.0->azureml-train-automl-client~=1.48.0->azureml-train-automl) (1.0.post1)\n",
      "Collecting termcolor\n",
      "  Downloading termcolor-2.2.0-py3-none-any.whl (6.6 kB)\n",
      "Requirement already satisfied: importlib-resources>=1.4.0 in c:\\users\\wei\\anaconda3\\envs\\az\\lib\\site-packages (from jsonschema->azureml-dataprep<4.9.0a,>=4.8.0a->azureml-dataset-runtime[fuse,pandas]~=1.48.0->azureml-train-automl) (5.10.1)\n",
      "Requirement already satisfied: pkgutil-resolve-name>=1.3.10 in c:\\users\\wei\\anaconda3\\envs\\az\\lib\\site-packages (from jsonschema->azureml-dataprep<4.9.0a,>=4.8.0a->azureml-dataset-runtime[fuse,pandas]~=1.48.0->azureml-train-automl) (1.3.10)\n",
      "Requirement already satisfied: attrs>=17.4.0 in c:\\users\\wei\\anaconda3\\envs\\az\\lib\\site-packages (from jsonschema->azureml-dataprep<4.9.0a,>=4.8.0a->azureml-dataset-runtime[fuse,pandas]~=1.48.0->azureml-train-automl) (22.2.0)\n",
      "Requirement already satisfied: pyrsistent!=0.17.0,!=0.17.1,!=0.17.2,>=0.14.0 in c:\\users\\wei\\anaconda3\\envs\\az\\lib\\site-packages (from jsonschema->azureml-dataprep<4.9.0a,>=4.8.0a->azureml-dataset-runtime[fuse,pandas]~=1.48.0->azureml-train-automl) (0.19.2)\n",
      "Requirement already satisfied: pycparser in c:\\users\\wei\\anaconda3\\envs\\az\\lib\\site-packages (from cffi>=1.12->cryptography>=2.1.4->azure-storage-queue~=12.1->azureml-train-automl-runtime~=1.48.0->azureml-train-automl) (2.21)\n",
      "Requirement already satisfied: smmap<6,>=3.0.1 in c:\\users\\wei\\anaconda3\\envs\\az\\lib\\site-packages (from gitdb<5,>=4.0.1->gitpython<4,>=2.1.0->mlflow-skinny<=1.30.0->azureml-train-automl-runtime~=1.48.0->azureml-train-automl) (5.0.0)\n",
      "Collecting heapdict\n",
      "  Downloading HeapDict-1.0.1-py3-none-any.whl (3.9 kB)\n",
      "Building wheels for collected packages: smart-open, fire\n",
      "  Building wheel for smart-open (setup.py): started\n",
      "  Building wheel for smart-open (setup.py): finished with status 'done'\n",
      "  Created wheel for smart-open: filename=smart_open-1.9.0-py3-none-any.whl size=73091 sha256=16f40657d4df76ee791b6c13916f582d2c813af85f8ec73fc6f4410a34b977c2\n",
      "  Stored in directory: c:\\users\\wei\\appdata\\local\\pip\\cache\\wheels\\6c\\fb\\4f\\f8e61ba68ae4d8e5d95fbd01d3e6f289d5aca23a1844560499\n",
      "  Building wheel for fire (setup.py): started\n",
      "  Building wheel for fire (setup.py): finished with status 'done'\n",
      "  Created wheel for fire: filename=fire-0.5.0-py2.py3-none-any.whl size=116933 sha256=89bd331f75bb21b9cb2042d85152775e19304f2b52c8219112d9940eab684df3\n",
      "  Stored in directory: c:\\users\\wei\\appdata\\local\\pip\\cache\\wheels\\40\\86\\45\\88e8603bd3b1a9bff9d02d820c7431c47ad032865632657bb9\n",
      "Successfully built smart-open fire\n",
      "Installing collected packages: sortedcontainers, msgpack, joblib, heapdict, flatbuffers, dataclasses, boto, zict, toolz, termcolor, tblib, setuptools, scipy, protobuf, locket, jmespath, fsspec, dill, Cython, scikit-learn, partd, pandas, onnxruntime, onnx, fire, botocore, bokeh, statsmodels, sklearn-pandas, s3transfer, onnxconverter-common, nimbusml, mlflow-skinny, lightgbm, dask, skl2onnx, pmdarima, keras2onnx, distributed, boto3, azure-storage-queue, smart-open, onnxmltools, gensim, azureml-training-tabular, azureml-automl-runtime, azureml-train-automl-runtime, azureml-train-automl\n",
      "  Attempting uninstall: joblib\n",
      "    Found existing installation: joblib 1.2.0\n",
      "    Uninstalling joblib-1.2.0:\n",
      "      Successfully uninstalled joblib-1.2.0\n",
      "  Attempting uninstall: setuptools\n",
      "    Found existing installation: setuptools 65.5.0\n",
      "    Uninstalling setuptools-65.5.0:\n",
      "      Successfully uninstalled setuptools-65.5.0\n",
      "  Attempting uninstall: scipy\n",
      "    Found existing installation: scipy 1.9.3\n",
      "    Uninstalling scipy-1.9.3:\n",
      "      Successfully uninstalled scipy-1.9.3\n",
      "Note: you may need to restart the kernel to use updated packages.\n"
     ]
    },
    {
     "name": "stderr",
     "output_type": "stream",
     "text": [
      "ERROR: Could not install packages due to an OSError: [WinError 5] Access is denied: 'C:\\\\Users\\\\Wei\\\\anaconda3\\\\envs\\\\az\\\\Lib\\\\site-packages\\\\~cipy.libs\\\\libopenblas-57db09cfe174768fb409a6bb5a530d4c.dll'\n",
      "Consider using the `--user` option or check the permissions.\n",
      "\n"
     ]
    }
   ],
   "source": [
    "pip install azureml-train-automl"
   ]
  },
  {
   "cell_type": "markdown",
   "metadata": {},
   "source": [
    "## Connect to your workspace\n",
    "\n",
    "With the required SDK packages installed, now you're ready to connect to your workspace.\n",
    "\n",
    "> **Note**: If you haven't already established an authenticated session with your Azure subscription, you'll be prompted to authenticate by clicking a link, entering an authentication code, and signing into Azure."
   ]
  },
  {
   "cell_type": "code",
   "execution_count": null,
   "metadata": {
    "gather": {
     "logged": 1649368014007
    },
    "vscode": {
     "languageId": "python"
    }
   },
   "outputs": [],
   "source": [
    "import azureml.core\n",
    "from azureml.core import Workspace\n",
    "\n",
    "# Load the workspace from the saved config file\n",
    "ws = Workspace.from_config()\n",
    "print('Ready to use Azure ML {} to work with {}'.format(azureml.core.VERSION, ws.name))"
   ]
  },
  {
   "cell_type": "markdown",
   "metadata": {},
   "source": [
    "## Prepare data\n",
    "\n",
    "You don't need to create a training script for automated machine learning, but you do need to load the training data. In this case, you'll use a dataset containing details of diabetes patients, and then split this into two datasets: one for training, and another for model validation."
   ]
  },
  {
   "cell_type": "code",
   "execution_count": null,
   "metadata": {
    "vscode": {
     "languageId": "python"
    }
   },
   "outputs": [],
   "source": [
    "from azureml.core import Dataset\n",
    "\n",
    "default_ds = ws.get_default_datastore()\n",
    "\n",
    "if 'diabetes dataset' not in ws.datasets:\n",
    "    default_ds.upload_files(files=['./data/diabetes.csv', './data/diabetes2.csv'], # Upload the diabetes csv files in /data\n",
    "                        target_path='diabetes-data/', # Put it in a folder path in the datastore\n",
    "                        overwrite=True, # Replace existing files of the same name\n",
    "                        show_progress=True)\n",
    "\n",
    "    #Create a tabular dataset from the path on the datastore (this may take a short while)\n",
    "    tab_data_set = Dataset.Tabular.from_delimited_files(path=(default_ds, 'diabetes-data/*.csv'))\n",
    "\n",
    "    # Register the tabular dataset\n",
    "    try:\n",
    "        tab_data_set = tab_data_set.register(workspace=ws, \n",
    "                                name='diabetes dataset',\n",
    "                                description='diabetes data',\n",
    "                                tags = {'format':'CSV'},\n",
    "                                create_new_version=True)\n",
    "        print('Dataset registered.')\n",
    "    except Exception as ex:\n",
    "        print(ex)\n",
    "else:\n",
    "    print('Dataset already registered.')\n",
    "\n",
    "\n",
    "# Split the dataset into training and validation subsets\n",
    "diabetes_ds = ws.datasets.get(\"diabetes dataset\")\n",
    "train_ds, test_ds = diabetes_ds.random_split(percentage=0.7, seed=123)\n",
    "print(\"Data ready!\")"
   ]
  },
  {
   "cell_type": "markdown",
   "metadata": {},
   "source": [
    "## Prepare compute\n",
    "\n",
    "One of the benefits of cloud compute is that it scales on-demand, enabling you to provision enough compute resources to process multiple child-runs of an automated machine learning experiment in parallel.\n",
    "\n",
    "Use the following code to specify an Azure Machine Learning compute cluster (it will be created if it doesn't already exist)..\n",
    "\n",
    "> **Important**: Change *your-compute-cluster* to the name of your compute cluster in the code below before running it! Cluster names must be globally unique names between 2 to 16 characters in length. Valid characters are letters, digits, and the - character."
   ]
  },
  {
   "cell_type": "code",
   "execution_count": null,
   "metadata": {
    "vscode": {
     "languageId": "python"
    }
   },
   "outputs": [],
   "source": [
    "from azureml.core.compute import ComputeTarget, AmlCompute\n",
    "from azureml.core.compute_target import ComputeTargetException\n",
    "\n",
    "cluster_name = \"ComputerCluster\"\n",
    "\n",
    "try:\n",
    "    # Check for existing compute target\n",
    "    training_cluster = ComputeTarget(workspace=ws, name=cluster_name)\n",
    "    print('Found existing cluster, use it.')\n",
    "except ComputeTargetException:\n",
    "    # If it doesn't already exist, create it\n",
    "    try:\n",
    "        compute_config = AmlCompute.provisioning_configuration(vm_size='STANDARD_DS11_V2', max_nodes=2)\n",
    "        training_cluster = ComputeTarget.create(ws, cluster_name, compute_config)\n",
    "        training_cluster.wait_for_completion(show_output=True)\n",
    "    except Exception as ex:\n",
    "        print(ex)\n",
    "    "
   ]
  },
  {
   "cell_type": "markdown",
   "metadata": {},
   "source": [
    "> **Note**: Compute instances and clusters are based on standard Azure virtual machine images. For this exercise, the *Standard_DS11_v2* image is recommended to achieve the optimal balance of cost and performance. If your subscription has a quota that does not include this image, choose an alternative image; but bear in mind that a larger image may incur higher cost and a smaller image may not be sufficient to complete the tasks. Alternatively, ask your Azure administrator to extend your quota.\n",
    "\n",
    "## Configure automated machine learning\n",
    "\n",
    "Now you're ready to configure the automated machine learning experiment.\n",
    "\n",
    "One of the most important configuration settings is the metric by which model performance should be evaluated. You can retrieve a list of the metrics that are calculated by automated machine learning for a particular type of model task (classification or regression) like this:"
   ]
  },
  {
   "cell_type": "code",
   "execution_count": null,
   "metadata": {
    "vscode": {
     "languageId": "python"
    }
   },
   "outputs": [],
   "source": [
    "import azureml.train.automl.utilities as automl_utils\n",
    "\n",
    "for metric in automl_utils.get_primary_metrics('classification'):\n",
    "    print(metric)"
   ]
  },
  {
   "cell_type": "markdown",
   "metadata": {},
   "source": [
    "Having decided the metric you want to optimize (in this example, *AUC_weighted*), you can configure the automated machine learning run. To do this, you'll need an AutoML configuration that specifies the target metric as well as options like the data to use, how many combinations to try, and so on.\n",
    "\n",
    "> **Note**: In this example, you'll restrict the experiment to 4 iterations to reduce the amount of time taken. In reality, you'd likely try many more iterations."
   ]
  },
  {
   "cell_type": "code",
   "execution_count": null,
   "metadata": {
    "vscode": {
     "languageId": "python"
    }
   },
   "outputs": [],
   "source": [
    "from azureml.train.automl import AutoMLConfig\n",
    "\n",
    "automl_config = AutoMLConfig(name='Automated ML Experiment',\n",
    "                             task='classification',\n",
    "                             compute_target=training_cluster,\n",
    "                             training_data = train_ds,\n",
    "                             validation_data = test_ds,\n",
    "                             label_column_name='Diabetic',\n",
    "                             iterations=4,\n",
    "                             primary_metric = 'AUC_weighted',\n",
    "                             max_concurrent_iterations=2,\n",
    "                             featurization='auto'\n",
    "                             )\n",
    "\n",
    "print(\"Ready for Auto ML run.\")"
   ]
  },
  {
   "cell_type": "markdown",
   "metadata": {},
   "source": [
    "## Run an automated machine learning experiment\n",
    "\n",
    "OK, you're ready to go. Let's run the automated machine learning experiment.\n",
    "\n",
    "> **Note**: This may take some time!"
   ]
  },
  {
   "cell_type": "code",
   "execution_count": null,
   "metadata": {
    "scrolled": true,
    "vscode": {
     "languageId": "python"
    }
   },
   "outputs": [],
   "source": [
    "from azureml.core.experiment import Experiment\n",
    "from azureml.widgets import RunDetails\n",
    "\n",
    "print('Submitting Auto ML experiment...')\n",
    "automl_experiment = Experiment(ws, 'mslearn-diabetes-automl-sdk')\n",
    "automl_run = automl_experiment.submit(automl_config)\n",
    "RunDetails(automl_run).show()\n",
    "automl_run.wait_for_completion(show_output=True)"
   ]
  },
  {
   "cell_type": "markdown",
   "metadata": {},
   "source": [
    "## View child run details\n",
    "\n",
    "When the experiment has completed, view the output in the widget, and click the run that produced the best result to see its details.\n",
    "\n",
    "Then click the link to view the experiment details in Azure Machine Learning studio and view the overall experiment details before viewing the details for the individual run that produced the best result. There's lots of information here about the performance of the model generated.\n",
    "\n",
    "You can also retrieve all of the child runs and view their metrics using the SDK:"
   ]
  },
  {
   "cell_type": "code",
   "execution_count": null,
   "metadata": {
    "vscode": {
     "languageId": "python"
    }
   },
   "outputs": [],
   "source": [
    "for run in automl_run.get_children():\n",
    "    print('Run ID', run.id)\n",
    "    for metric in run.get_metrics():\n",
    "        print('\\t', run.get_metrics(metric))"
   ]
  },
  {
   "cell_type": "markdown",
   "metadata": {},
   "source": [
    "## Get the best run\n",
    "\n",
    "You can retrieve the best-performing run, and view its details like this:"
   ]
  },
  {
   "cell_type": "code",
   "execution_count": null,
   "metadata": {
    "vscode": {
     "languageId": "python"
    }
   },
   "outputs": [],
   "source": [
    "best_run, fitted_model = automl_run.get_output()\n",
    "print(best_run)\n",
    "print('\\nBest Model Definition:')\n",
    "print(fitted_model)\n",
    "print('\\nBest Run Transformations:')\n",
    "for step in fitted_model.named_steps:\n",
    "    print(step)\n",
    "print('\\nBest Run Metrics:')\n",
    "best_run_metrics = best_run.get_metrics()\n",
    "for metric_name in best_run_metrics:\n",
    "    metric = best_run_metrics[metric_name]\n",
    "    print(metric_name, metric)"
   ]
  },
  {
   "cell_type": "markdown",
   "metadata": {},
   "source": [
    "Finally, having found the best performing model, you can register it."
   ]
  },
  {
   "cell_type": "code",
   "execution_count": null,
   "metadata": {
    "vscode": {
     "languageId": "python"
    }
   },
   "outputs": [],
   "source": [
    "from azureml.core import Model\n",
    "\n",
    "# Register model\n",
    "best_run.register_model(model_path='outputs/model.pkl', model_name='diabetes_model',\n",
    "                        tags={'Training context':'Auto ML'},\n",
    "                        properties={'AUC': best_run_metrics['AUC_weighted'], 'Accuracy': best_run_metrics['accuracy']})\n",
    "\n",
    "# List registered models\n",
    "for model in Model.list(ws):\n",
    "    print(model.name, 'version:', model.version)\n",
    "    for tag_name in model.tags:\n",
    "        tag = model.tags[tag_name]\n",
    "        print ('\\t',tag_name, ':', tag)\n",
    "    for prop_name in model.properties:\n",
    "        prop = model.properties[prop_name]\n",
    "        print ('\\t',prop_name, ':', prop)\n",
    "    print('\\n')"
   ]
  },
  {
   "cell_type": "markdown",
   "metadata": {},
   "source": [
    "> **More Information**: For more information Automated Machine Learning, see the [Azure ML documentation](https://docs.microsoft.com/azure/machine-learning/how-to-configure-auto-train)."
   ]
  }
 ],
 "metadata": {
  "kernel_info": {
   "name": "python38-azureml"
  },
  "kernelspec": {
   "display_name": "Python 3 (ipykernel)",
   "language": "python",
   "name": "python3"
  },
  "language_info": {
   "codemirror_mode": {
    "name": "ipython",
    "version": 3
   },
   "file_extension": ".py",
   "mimetype": "text/x-python",
   "name": "python",
   "nbconvert_exporter": "python",
   "pygments_lexer": "ipython3",
   "version": "3.8.15"
  },
  "nteract": {
   "version": "nteract-front-end@1.0.0"
  }
 },
 "nbformat": 4,
 "nbformat_minor": 1
}
